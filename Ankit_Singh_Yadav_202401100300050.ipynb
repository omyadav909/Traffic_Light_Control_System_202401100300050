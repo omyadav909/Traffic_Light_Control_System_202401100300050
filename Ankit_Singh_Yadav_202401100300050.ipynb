{
  "nbformat": 4,
  "nbformat_minor": 0,
  "metadata": {
    "colab": {
      "provenance": []
    },
    "kernelspec": {
      "name": "python3",
      "display_name": "Python 3"
    },
    "language_info": {
      "name": "python"
    }
  },
  "cells": [
    {
      "cell_type": "code",
      "source": [
        "\n",
        "\n",
        "import pandas as pd\n",
        "import random\n",
        "\n",
        "\n",
        "def traffic_light_control(traffic_data):\n",
        "  \"\"\"\n",
        "  Controls traffic lights based on traffic density.\n",
        "\n",
        "  Args:\n",
        "      traffic_data: A pandas DataFrame containing traffic data.\n",
        "\n",
        "  Returns:\n",
        "      A list of traffic light states (e.g., [\"Green\", \"Red\", \"Yellow\"])\n",
        "  \"\"\"\n",
        "\n",
        "\n",
        "  if not isinstance(traffic_data, pd.DataFrame):\n",
        "      raise TypeError(\"Traffic data should be a Pandas DataFrame.\")\n",
        "\n",
        "\n",
        "  num_intersections = 5\n",
        "  traffic_light_states = []\n",
        "\n",
        "  for _ in range(num_intersections):\n",
        "      density = random.uniform(0, 1)\n",
        "      if density < 0.3:\n",
        "          traffic_light_states.append(\"Green\")\n",
        "      elif density < 0.7:\n",
        "          traffic_light_states.append(\"Yellow\")\n",
        "      else:\n",
        "          traffic_light_states.append(\"Red\")\n",
        "\n",
        "  return traffic_light_states\n",
        "\n",
        "traffic_states = traffic_light_control(df)\n",
        "traffic_states\n"
      ],
      "metadata": {
        "colab": {
          "base_uri": "https://localhost:8080/"
        },
        "id": "6l58y8VEjZRU",
        "outputId": "26451890-00c9-44bf-8cd8-59cc43709e7f"
      },
      "execution_count": 36,
      "outputs": [
        {
          "output_type": "execute_result",
          "data": {
            "text/plain": [
              "['Red', 'Yellow', 'Red', 'Yellow', 'Red']"
            ]
          },
          "metadata": {},
          "execution_count": 36
        }
      ]
    }
  ]
}